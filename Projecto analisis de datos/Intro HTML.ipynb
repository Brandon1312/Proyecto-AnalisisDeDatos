{
 "cells": [
  {
   "cell_type": "markdown",
   "id": "c80db2c6",
   "metadata": {},
   "source": [
    "<h1>Hola a todos<h1>\n",
    "<h3> Hola a todos<h3>\n",
    "<h4>Hola a todos<h4>"
   ]
  },
  {
   "cell_type": "code",
   "execution_count": 1,
   "id": "64971c10",
   "metadata": {},
   "outputs": [
    {
     "ename": "SyntaxError",
     "evalue": "invalid character '“' (U+201C) (2008609827.py, line 1)",
     "output_type": "error",
     "traceback": [
      "\u001b[1;36m  Cell \u001b[1;32mIn[1], line 1\u001b[1;36m\u001b[0m\n\u001b[1;33m    <p> After months of congress demanding action against the drug cartels the DOJ is taking action. “Today, the Justice Department is announcing significant enforcement actions against </p>\u001b[0m\n\u001b[1;37m                                                                                                     ^\u001b[0m\n\u001b[1;31mSyntaxError\u001b[0m\u001b[1;31m:\u001b[0m invalid character '“' (U+201C)\n"
     ]
    }
   ],
   "source": [
    "<p> After months of congress demanding action against the drug cartels the DOJ is taking action. “Today, the Justice Department is announcing significant enforcement actions against </p>"
   ]
  },
  {
   "cell_type": "markdown",
   "id": "2b141f1f",
   "metadata": {},
   "source": [
    "<p>After months of congress demanding action against the drug cartels the DOJ is taking action. “Today, the Justice Department is announcing significant enforcement actions against</p>\n"
   ]
  },
  {
   "cell_type": "markdown",
   "id": "b815b79e",
   "metadata": {},
   "source": [
    "<img src=\"img01\" >"
   ]
  },
  {
   "cell_type": "code",
   "execution_count": 2,
   "id": "427b97a1",
   "metadata": {},
   "outputs": [
    {
     "ename": "SyntaxError",
     "evalue": "invalid syntax (2272110366.py, line 1)",
     "output_type": "error",
     "traceback": [
      "\u001b[1;36m  Cell \u001b[1;32mIn[2], line 1\u001b[1;36m\u001b[0m\n\u001b[1;33m    <img src=\"img01\">\u001b[0m\n\u001b[1;37m    ^\u001b[0m\n\u001b[1;31mSyntaxError\u001b[0m\u001b[1;31m:\u001b[0m invalid syntax\n"
     ]
    }
   ],
   "source": [
    "<img src=\"img01\">\n"
   ]
  },
  {
   "cell_type": "markdown",
   "id": "3effddc2",
   "metadata": {},
   "source": [
    "<img src=\"img01\">"
   ]
  },
  {
   "cell_type": "markdown",
   "id": "cc00c7a1",
   "metadata": {},
   "source": [
    "<img src=\"img01.png\">\n"
   ]
  },
  {
   "cell_type": "code",
   "execution_count": 3,
   "id": "c923eb48",
   "metadata": {},
   "outputs": [
    {
     "ename": "SyntaxError",
     "evalue": "invalid syntax (2495657349.py, line 1)",
     "output_type": "error",
     "traceback": [
      "\u001b[1;36m  Cell \u001b[1;32mIn[3], line 1\u001b[1;36m\u001b[0m\n\u001b[1;33m    <img src=\"img01.png\">\u001b[0m\n\u001b[1;37m    ^\u001b[0m\n\u001b[1;31mSyntaxError\u001b[0m\u001b[1;31m:\u001b[0m invalid syntax\n"
     ]
    }
   ],
   "source": [
    "<img src=\"img01.png\">"
   ]
  },
  {
   "cell_type": "markdown",
   "id": "407bd1c8",
   "metadata": {},
   "source": [
    "<img src=\"img01.png\">"
   ]
  },
  {
   "cell_type": "markdown",
   "id": "5dda0f5e",
   "metadata": {},
   "source": [
    "<img src=\"img01.png\">"
   ]
  },
  {
   "cell_type": "markdown",
   "id": "2e7dd421",
   "metadata": {},
   "source": [
    "<h2 Style='color:#2790b0; text-align:center' >Ejemplo de todo unido </h2>\n",
    "    \n",
    "<p Style='font-family:serif'> Este es el primer ejemplo, sobre la utilizacion de HTML, en los proyectos de analisis de datos para poder dar \n",
    "formato a los documentos que se creen en los ambitos laborales.</p>\n",
    "    \n",
    "<p Style='font-weight: bold'>Estos documentos consideran entre otras cosas lo siguiente: </p>\n",
    "    \n",
    "<ol>\n",
    " <li> Carga de datos</li>\n",
    " <li> Limpieza de datos</li>\n",
    " <li> Graficado</li>\n",
    "</ol>\n",
    "    \n",
    "    \n"
   ]
  },
  {
   "cell_type": "code",
   "execution_count": null,
   "id": "c8821616",
   "metadata": {},
   "outputs": [],
   "source": []
  },
  {
   "cell_type": "code",
   "execution_count": null,
   "id": "14771701",
   "metadata": {},
   "outputs": [],
   "source": []
  }
 ],
 "metadata": {
  "kernelspec": {
   "display_name": "Python 3 (ipykernel)",
   "language": "python",
   "name": "python3"
  },
  "language_info": {
   "codemirror_mode": {
    "name": "ipython",
    "version": 3
   },
   "file_extension": ".py",
   "mimetype": "text/x-python",
   "name": "python",
   "nbconvert_exporter": "python",
   "pygments_lexer": "ipython3",
   "version": "3.10.9"
  }
 },
 "nbformat": 4,
 "nbformat_minor": 5
}
